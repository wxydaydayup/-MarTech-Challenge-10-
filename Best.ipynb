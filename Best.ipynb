{
 "cells": [
  {
   "cell_type": "code",
   "execution_count": 15,
   "id": "89f691d8",
   "metadata": {
    "ExecuteTime": {
     "end_time": "2022-11-04T11:16:11.844649Z",
     "start_time": "2022-11-04T11:13:22.152635Z"
    },
    "scrolled": true
   },
   "outputs": [
    {
     "name": "stderr",
     "output_type": "stream",
     "text": [
      "Default metric period is 5 because AUC is/are not implemented for GPU\n"
     ]
    },
    {
     "name": "stdout",
     "output_type": "stream",
     "text": [
      "0:\ttest: 0.8926893\tbest: 0.8926893 (0)\ttotal: 30.1ms\tremaining: 30.1s\n",
      "500:\ttest: 0.9436769\tbest: 0.9436769 (500)\ttotal: 11.6s\tremaining: 11.6s\n",
      "bestTest = 0.9439932704\n",
      "bestIteration = 601\n",
      "Shrink model to first 602 iterations.\n",
      "cat验证的auc:0.9439932657420663\n"
     ]
    },
    {
     "name": "stderr",
     "output_type": "stream",
     "text": [
      "Default metric period is 5 because AUC is/are not implemented for GPU\n"
     ]
    },
    {
     "name": "stdout",
     "output_type": "stream",
     "text": [
      "0:\ttest: 0.8904212\tbest: 0.8904212 (0)\ttotal: 27.2ms\tremaining: 27.2s\n",
      "500:\ttest: 0.9426244\tbest: 0.9426244 (500)\ttotal: 11.3s\tremaining: 11.3s\n",
      "bestTest = 0.9429988265\n",
      "bestIteration = 712\n",
      "Shrink model to first 713 iterations.\n",
      "cat验证的auc:0.9429988676578092\n"
     ]
    },
    {
     "name": "stderr",
     "output_type": "stream",
     "text": [
      "Default metric period is 5 because AUC is/are not implemented for GPU\n"
     ]
    },
    {
     "name": "stdout",
     "output_type": "stream",
     "text": [
      "0:\ttest: 0.8937901\tbest: 0.8937901 (0)\ttotal: 24.8ms\tremaining: 24.8s\n",
      "500:\ttest: 0.9425968\tbest: 0.9425968 (500)\ttotal: 11.5s\tremaining: 11.5s\n",
      "bestTest = 0.9430420399\n",
      "bestIteration = 739\n",
      "Shrink model to first 740 iterations.\n",
      "cat验证的auc:0.9430419972123413\n"
     ]
    },
    {
     "name": "stderr",
     "output_type": "stream",
     "text": [
      "Default metric period is 5 because AUC is/are not implemented for GPU\n"
     ]
    },
    {
     "name": "stdout",
     "output_type": "stream",
     "text": [
      "0:\ttest: 0.8913552\tbest: 0.8913552 (0)\ttotal: 24ms\tremaining: 24s\n",
      "500:\ttest: 0.9421819\tbest: 0.9421829 (499)\ttotal: 11.3s\tremaining: 11.3s\n",
      "bestTest = 0.9423710704\n",
      "bestIteration = 623\n",
      "Shrink model to first 624 iterations.\n",
      "cat验证的auc:0.9423710659824464\n"
     ]
    },
    {
     "name": "stderr",
     "output_type": "stream",
     "text": [
      "Default metric period is 5 because AUC is/are not implemented for GPU\n"
     ]
    },
    {
     "name": "stdout",
     "output_type": "stream",
     "text": [
      "0:\ttest: 0.8912203\tbest: 0.8912203 (0)\ttotal: 23.8ms\tremaining: 23.8s\n",
      "500:\ttest: 0.9422278\tbest: 0.9422278 (500)\ttotal: 11.5s\tremaining: 11.4s\n",
      "bestTest = 0.9426182508\n",
      "bestIteration = 663\n",
      "Shrink model to first 664 iterations.\n",
      "cat验证的auc:0.9426182497394482\n"
     ]
    },
    {
     "name": "stderr",
     "output_type": "stream",
     "text": [
      "Default metric period is 5 because AUC is/are not implemented for GPU\n"
     ]
    },
    {
     "name": "stdout",
     "output_type": "stream",
     "text": [
      "0:\ttest: 0.8916350\tbest: 0.8916350 (0)\ttotal: 24.4ms\tremaining: 24.4s\n",
      "500:\ttest: 0.9433519\tbest: 0.9433582 (496)\ttotal: 11.4s\tremaining: 11.3s\n",
      "bestTest = 0.9437792301\n",
      "bestIteration = 681\n",
      "Shrink model to first 682 iterations.\n",
      "cat验证的auc:0.9437792171101479\n"
     ]
    },
    {
     "name": "stderr",
     "output_type": "stream",
     "text": [
      "Default metric period is 5 because AUC is/are not implemented for GPU\n"
     ]
    },
    {
     "name": "stdout",
     "output_type": "stream",
     "text": [
      "0:\ttest: 0.8955987\tbest: 0.8955987 (0)\ttotal: 26.6ms\tremaining: 26.6s\n",
      "500:\ttest: 0.9452961\tbest: 0.9452989 (492)\ttotal: 11.4s\tremaining: 11.4s\n",
      "bestTest = 0.945753634\n",
      "bestIteration = 692\n",
      "Shrink model to first 693 iterations.\n",
      "cat验证的auc:0.9457536274181506\n"
     ]
    },
    {
     "name": "stderr",
     "output_type": "stream",
     "text": [
      "Default metric period is 5 because AUC is/are not implemented for GPU\n"
     ]
    },
    {
     "name": "stdout",
     "output_type": "stream",
     "text": [
      "0:\ttest: 0.8919683\tbest: 0.8919683 (0)\ttotal: 23.1ms\tremaining: 23.1s\n",
      "500:\ttest: 0.9424167\tbest: 0.9424172 (493)\ttotal: 15.3s\tremaining: 15.2s\n",
      "bestTest = 0.9427986145\n",
      "bestIteration = 681\n",
      "Shrink model to first 682 iterations.\n",
      "cat验证的auc:0.9427986187216437\n"
     ]
    },
    {
     "name": "stderr",
     "output_type": "stream",
     "text": [
      "Default metric period is 5 because AUC is/are not implemented for GPU\n"
     ]
    },
    {
     "name": "stdout",
     "output_type": "stream",
     "text": [
      "0:\ttest: 0.8919795\tbest: 0.8919795 (0)\ttotal: 26.3ms\tremaining: 26.2s\n",
      "bestTest = 0.9435623288\n",
      "bestIteration = 469\n",
      "Shrink model to first 470 iterations.\n",
      "cat验证的auc:0.9435622760914683\n"
     ]
    },
    {
     "name": "stderr",
     "output_type": "stream",
     "text": [
      "Default metric period is 5 because AUC is/are not implemented for GPU\n"
     ]
    },
    {
     "name": "stdout",
     "output_type": "stream",
     "text": [
      "0:\ttest: 0.8960528\tbest: 0.8960528 (0)\ttotal: 27.6ms\tremaining: 27.6s\n",
      "500:\ttest: 0.9454633\tbest: 0.9454702 (488)\ttotal: 12s\tremaining: 12s\n",
      "bestTest = 0.9454701543\n",
      "bestIteration = 488\n",
      "Shrink model to first 489 iterations.\n",
      "cat验证的auc:0.9454701302738684\n",
      "mean valAuc:0.9436387315949392\n"
     ]
    },
    {
     "ename": "IndexError",
     "evalue": "only integers, slices (`:`), ellipsis (`...`), numpy.newaxis (`None`) and integer or boolean arrays are valid indices",
     "output_type": "error",
     "traceback": [
      "\u001b[1;31m---------------------------------------------------------------------------\u001b[0m",
      "\u001b[1;31mIndexError\u001b[0m                                Traceback (most recent call last)",
      "\u001b[1;32m<ipython-input-15-946cbf0cd000>\u001b[0m in \u001b[0;36m<module>\u001b[1;34m\u001b[0m\n\u001b[0;32m     35\u001b[0m \u001b[0mprint\u001b[0m\u001b[1;33m(\u001b[0m\u001b[1;34m'mean valAuc:{}'\u001b[0m\u001b[1;33m.\u001b[0m\u001b[0mformat\u001b[0m\u001b[1;33m(\u001b[0m\u001b[0mmean_score\u001b[0m\u001b[1;33m)\u001b[0m\u001b[1;33m)\u001b[0m\u001b[1;33m\u001b[0m\u001b[1;33m\u001b[0m\u001b[0m\n\u001b[0;32m     36\u001b[0m \u001b[1;33m\u001b[0m\u001b[0m\n\u001b[1;32m---> 37\u001b[1;33m \u001b[0mres\u001b[0m \u001b[1;33m=\u001b[0m \u001b[0mpd\u001b[0m\u001b[1;33m.\u001b[0m\u001b[0mDataFrame\u001b[0m\u001b[1;33m(\u001b[0m\u001b[0mtest\u001b[0m\u001b[1;33m[\u001b[0m\u001b[1;34m'sid'\u001b[0m\u001b[1;33m]\u001b[0m\u001b[1;33m)\u001b[0m\u001b[1;33m\u001b[0m\u001b[1;33m\u001b[0m\u001b[0m\n\u001b[0m\u001b[0;32m     38\u001b[0m \u001b[0mcat_pre\u001b[0m\u001b[1;33m=\u001b[0m\u001b[0msum\u001b[0m\u001b[1;33m(\u001b[0m\u001b[0manswers\u001b[0m\u001b[1;33m)\u001b[0m\u001b[1;33m/\u001b[0m\u001b[0mn_folds\u001b[0m\u001b[1;33m\u001b[0m\u001b[1;33m\u001b[0m\u001b[0m\n\u001b[0;32m     39\u001b[0m \u001b[0mcat_pre2\u001b[0m \u001b[1;33m=\u001b[0m \u001b[1;33m[\u001b[0m\u001b[0mx\u001b[0m\u001b[1;33m[\u001b[0m\u001b[1;36m1\u001b[0m\u001b[1;33m]\u001b[0m \u001b[1;32mfor\u001b[0m \u001b[0mx\u001b[0m \u001b[1;32min\u001b[0m \u001b[0mcat_pre\u001b[0m\u001b[1;33m]\u001b[0m\u001b[1;33m\u001b[0m\u001b[1;33m\u001b[0m\u001b[0m\n",
      "\u001b[1;31mIndexError\u001b[0m: only integers, slices (`:`), ellipsis (`...`), numpy.newaxis (`None`) and integer or boolean arrays are valid indices"
     ]
    }
   ],
   "source": [
    "import pandas as pd\n",
    "import warnings\n",
    "warnings.filterwarnings('ignore')\n",
    "\n",
    "# 数据加载和去除Unnameed字段\n",
    "train = pd.read_csv('./train.csv')\n",
    "test = pd.read_csv('./test1.csv')\n",
    "train = train.iloc[:, 1:]\n",
    "test = test.iloc[:,1:]\n",
    "res = pd.DataFrame(test['sid'])\n",
    "\n",
    "# 去除数据探索发现问题的字段\n",
    "col = train.columns.tolist()\n",
    "remove_list = ['lan', 'os','label', 'sid']\n",
    "for i in remove_list:\n",
    "    col.remove(i)\n",
    "features = train[col]\n",
    "test_features = test[col]\n",
    "\n",
    "# 对osv进行数据清洗\n",
    "def osv_trans(x):\n",
    "    x = str(x).replace('Android_', '').replace('Android ', '').replace('W', '')\n",
    "    if str(x).find('.')>0:\n",
    "        temp_index1 = x.find('.')\n",
    "        if x.find(' ')>0:\n",
    "            temp_index2 = x.find(' ')\n",
    "        else:\n",
    "            temp_index2 = len(x)\n",
    " \n",
    "        if x.find('-')>0:\n",
    "            temp_index2 = x.find('-')\n",
    "            \n",
    "        result = x[0:temp_index1] + '.' + x[temp_index1+1:temp_index2].replace('.', '')\n",
    "        try:\n",
    "            return float(result)\n",
    "        except:\n",
    "            print('有错误: '+x)\n",
    "            return 0\n",
    "    try:\n",
    "        return float(x)\n",
    "    except:\n",
    "        print('有错误: '+x)\n",
    "        return 0\n",
    "features['osv'].fillna('8.1.0', inplace=True)\n",
    "features['osv'] = features['osv'].apply(osv_trans)\n",
    "test_features['osv'].fillna('8.1.0', inplace=True)\n",
    "test_features['osv'] = test_features['osv'].apply(osv_trans)\n",
    "\n",
    "# 对timestamp进行数据清洗与特征变换,\n",
    "from datetime import datetime\n",
    "features['timestamp'] = features['timestamp'].apply(lambda x: datetime.fromtimestamp(x/1000))\n",
    "test_features['timestamp'] = test_features['timestamp'].apply(lambda x: datetime.fromtimestamp(x/1000))\n",
    "temp = pd.DatetimeIndex(features['timestamp'])\n",
    "features['year'] = temp.year\n",
    "features['month'] = temp.month\n",
    "features['day'] = temp.day\n",
    "features['hour'] = temp.hour\n",
    "features['minute'] = temp.minute\n",
    "features['week_day'] = temp.weekday #星期几\n",
    "start_time = features['timestamp'].min()\n",
    "features['time_diff'] = features['timestamp'] - start_time\n",
    "features['time_diff'] = features['time_diff'].dt.days + features['time_diff'].dt.seconds/3600/24\n",
    "temp = pd.DatetimeIndex(test_features['timestamp'])\n",
    "test_features['year'] = temp.year\n",
    "test_features['month'] = temp.month\n",
    "test_features['day'] = temp.day\n",
    "test_features['hour'] = temp.hour\n",
    "test_features['minute'] = temp.minute\n",
    "test_features['week_day'] = temp.weekday #星期几 \n",
    "test_features['time_diff'] = test_features['timestamp'] - start_time\n",
    "test_features['time_diff'] = test_features['time_diff'].dt.days + test_features['time_diff'].dt.seconds/3600/24\n",
    "features = features.drop(['timestamp'],axis = 1)\n",
    "test_features = test_features.drop(['timestamp'],axis = 1)\n",
    "\n",
    "# 对version进行数据清洗与特征变换\n",
    "def version_trans(x):\n",
    "    if x=='V3':\n",
    "        return 3\n",
    "    if x=='v1':\n",
    "        return 1\n",
    "    if x=='P_Final_6':\n",
    "        return 6\n",
    "    if x=='V6':\n",
    "        return 6\n",
    "    if x=='GA3':\n",
    "        return 3\n",
    "    if x=='GA2':\n",
    "        return 2\n",
    "    if x=='V2':\n",
    "        return 2\n",
    "    if x=='50':\n",
    "        return 5\n",
    "    return int(x)\n",
    "features['version'] = features['version'].apply(version_trans)\n",
    "test_features['version'] = test_features['version'].apply(version_trans)\n",
    "features['version'] = features['version'].astype('int')\n",
    "test_features['version'] = test_features['version'].astype('int')\n",
    "\n",
    "# 对lan进行数据清洗与特征变换 对于有缺失的lan 设置为22    \n",
    "lan_map = {'zh-CN': 1, 'zh_CN':2, 'Zh-CN': 3, 'zh-cn': 4, 'zh_CN_#Hans':5, 'zh': 6, 'ZH': 7, 'cn':8, 'CN':9, 'zh-HK': 10, 'tw': 11, 'TW': 12, 'zh-TW': 13,             'zh-MO':14, 'en':15, 'en-GB': 16, 'en-US': 17, 'ko': 18, 'ja': 19, 'it': 20, 'mi':21} \n",
    "train['lan'] = train['lan'].map(lan_map)\n",
    "test['lan'] = test['lan'].map(lan_map)\n",
    "train['lan'].fillna(22, inplace=True)\n",
    "test['lan'].fillna(22, inplace=True)\n",
    "\n",
    "# 构造面积特征和构造相除特征\n",
    "features['dev_area'] = features['dev_height'] * features['dev_width']\n",
    "test_features['dev_area'] = test_features['dev_height'] * test_features['dev_width']\n",
    "features['dev_rato'] = features['dev_height'] / features['dev_width']\n",
    "test_features['dev_rato'] = test_features['dev_height'] / test_features['dev_width']\n",
    "# APP版本与操作系统版本差\n",
    "features['version_osv'] = features['osv'] - features['version']\n",
    "test_features['version_osv'] = test_features['osv'] - test_features['version']\n",
    "\n",
    "# 对fea_hash与fea1_hash特征变换\n",
    "features['fea_hash_len'] = features['fea_hash'].map(lambda x: len(str(x)))\n",
    "features['fea1_hash_len'] = features['fea1_hash'].map(lambda x: len(str(x)))\n",
    "features['fea_hash'] = features['fea_hash'].map(lambda x: 0 if len(str(x))>16 else int(x))\n",
    "features['fea1_hash'] = features['fea1_hash'].map(lambda x: 0 if len(str(x))>16 else int(x))\n",
    "test_features['fea_hash_len'] = test_features['fea_hash'].map(lambda x: len(str(x)))\n",
    "test_features['fea1_hash_len'] = test_features['fea1_hash'].map(lambda x: len(str(x)))\n",
    "test_features['fea_hash'] = test_features['fea_hash'].map(lambda x: 0 if len(str(x))>16 else int(x))\n",
    "test_features['fea1_hash'] = test_features['fea1_hash'].map(lambda x: 0 if len(str(x))>16 else int(x))\n",
    "\n",
    "#通过特征比，寻找关键特征，构造新特征，新特征字段 = 原始特征字段 + 1\n",
    "def find_key_feature(train, selected):\n",
    "    temp = pd.DataFrame(columns = [0,1])\n",
    "    temp0 = train[train['label'] == 0]\n",
    "    temp1 = train[train['label'] == 1]\n",
    "    temp[0] = temp0[selected].value_counts() / len(temp0) * 100\n",
    "    temp[1] = temp1[selected].value_counts() / len(temp1) * 100\n",
    "    temp[2] = temp[1] / temp[0]\n",
    "    #选出大于10倍的特征\n",
    "    result = temp[temp[2] > 10].sort_values(2, ascending = False).index\n",
    "    return result\n",
    "selected_cols = ['osv','apptype', 'carrier', 'dev_height', 'dev_ppi','dev_width', 'media_id', \n",
    "                 'package', 'version', 'fea_hash', 'location', 'fea1_hash','cus_type']\n",
    "key_feature = {}\n",
    "for selected in selected_cols:\n",
    "    key_feature[selected] = find_key_feature(train, selected)\n",
    "def f(x, selected):\n",
    "    if x in key_feature[selected]:\n",
    "        return 1\n",
    "    else:\n",
    "        return 0\n",
    "for selected in selected_cols:\n",
    "    if len(key_feature[selected]) > 0:\n",
    "        features[selected+'1'] = features[selected].apply(f, args = (selected,))\n",
    "        test_features[selected+'1'] = test_features[selected].apply(f, args = (selected,))\n",
    "        print(selected+'1 created')\n",
    "\n",
    "#CatBoost模型\n",
    "from catboost import CatBoostClassifier\n",
    "from sklearn.model_selection import StratifiedKFold\n",
    "from sklearn.metrics import roc_auc_score\n",
    "model=CatBoostClassifier(\n",
    "            loss_function=\"Logloss\",\n",
    "            eval_metric=\"AUC\",\n",
    "            task_type=\"GPU\",\n",
    "            learning_rate=0.1,\n",
    "            iterations=1000,\n",
    "            random_seed=2021,\n",
    "            od_type=\"Iter\",\n",
    "            depth=7)\n",
    "\n",
    "n_folds =10 #十折交叉校验\n",
    "answers = []\n",
    "mean_score = 0\n",
    "data_x=features\n",
    "data_y=train['label']\n",
    "sk = StratifiedKFold(n_splits=n_folds, shuffle=True, random_state=2021)\n",
    "all_test = test_features.copy()\n",
    "for train, test in sk.split(data_x, data_y):  \n",
    "    x_train = data_x.iloc[train]\n",
    "    y_train = data_y.iloc[train]\n",
    "    x_test = data_x.iloc[test]\n",
    "    y_test = data_y.iloc[test]\n",
    "    clf = model.fit(x_train,y_train, eval_set=(x_test,y_test),verbose=500) # 500条打印一条日志\n",
    "    \n",
    "    yy_pred_valid=clf.predict(x_test,prediction_type='Probability')[:,-1]\n",
    "    print('cat验证的auc:{}'.format(roc_auc_score(y_test, yy_pred_valid)))\n",
    "    mean_score += roc_auc_score(y_test, yy_pred_valid) / n_folds\n",
    "    \n",
    "    y_pred_valid = clf.predict(all_test,prediction_type='Probability')[:,-1]\n",
    "    answers.append(y_pred_valid) \n",
    "print('mean valAuc:{}'.format(mean_score))\n",
    "cat_pre=sum(answers)/n_folds\n",
    "cat_pre\n",
    "res['label']=[1 if x>=0.5 else 0 for x in cat_pre]\n",
    "res.to_csv('./baselinev6.csv',index=False)\n"
   ]
  },
  {
   "cell_type": "code",
   "execution_count": 26,
   "id": "46fa9737",
   "metadata": {
    "ExecuteTime": {
     "end_time": "2022-11-04T11:24:24.928021Z",
     "start_time": "2022-11-04T11:24:24.696041Z"
    },
    "scrolled": true
   },
   "outputs": [],
   "source": []
  }
 ],
 "metadata": {
  "kernelspec": {
   "display_name": "Python 3",
   "language": "python",
   "name": "python3"
  },
  "language_info": {
   "codemirror_mode": {
    "name": "ipython",
    "version": 3
   },
   "file_extension": ".py",
   "mimetype": "text/x-python",
   "name": "python",
   "nbconvert_exporter": "python",
   "pygments_lexer": "ipython3",
   "version": "3.8.8"
  }
 },
 "nbformat": 4,
 "nbformat_minor": 5
}
