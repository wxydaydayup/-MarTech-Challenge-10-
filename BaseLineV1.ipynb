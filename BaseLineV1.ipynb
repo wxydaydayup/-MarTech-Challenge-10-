{
 "cells": [
  {
   "cell_type": "code",
   "execution_count": 2,
   "id": "3037a466",
   "metadata": {},
   "outputs": [
    {
     "name": "stdout",
     "output_type": "stream",
     "text": [
      "已完成\n"
     ]
    }
   ],
   "source": [
    "import pandas as pd\n",
    "import warnings\n",
    "import lightgbm as lgb\n",
    "warnings.filterwarnings('ignore')\n",
    "# 数据加载\n",
    "train = pd.read_csv('./train.csv')\n",
    "test = pd.read_csv('./test1.csv')\n",
    "# 去除Unnameed字段\n",
    "train = train.iloc[:, 1:]\n",
    "test = test.iloc[:,1:]\n",
    "# 去除数据探索发现问题的字段\n",
    "col = train.columns.tolist()\n",
    "remove_list = ['lan', 'os', 'osv', 'version', 'label', 'sid','timestamp']\n",
    "for i in remove_list:\n",
    "    col.remove(i)\n",
    "features = train[col]\n",
    "test_features = test[col]\n",
    "# fea_hash特征变换\n",
    "features['fea_hash_len'] = features['fea_hash'].map(lambda x: len(str(x)))\n",
    "features['fea1_hash_len'] = features['fea1_hash'].map(lambda x: len(str(x)))\n",
    "features['fea_hash'] = features['fea_hash'].map(lambda x: 0 if len(str(x))>16 else int(x))\n",
    "features['fea1_hash'] = features['fea1_hash'].map(lambda x: 0 if len(str(x))>16 else int(x))\n",
    "test_features['fea_hash_len'] = test_features['fea_hash'].map(lambda x: len(str(x)))\n",
    "test_features['fea1_hash_len'] = test_features['fea1_hash'].map(lambda x: len(str(x)))\n",
    "test_features['fea_hash'] = test_features['fea_hash'].map(lambda x: 0 if len(str(x))>16 else int(x))\n",
    "test_features['fea1_hash'] = test_features['fea1_hash'].map(lambda x: 0 if len(str(x))>16 else int(x))\n",
    "#lightgbm进行训练与预测\n",
    "model = lgb.LGBMClassifier()\n",
    "model.fit(features,train['label'])\n",
    "result = model.predict(test_features)\n",
    "#res包括sid字段与label字段\n",
    "res = pd.DataFrame(test['sid'])\n",
    "res['label'] = result\n",
    "#保存在csv中\n",
    "res.to_csv('./baselineV1.csv',index=False)\n",
    "print(\"已完成\")"
   ]
  }
 ],
 "metadata": {
  "kernelspec": {
   "display_name": "Python 3",
   "language": "python",
   "name": "python3"
  },
  "language_info": {
   "codemirror_mode": {
    "name": "ipython",
    "version": 3
   },
   "file_extension": ".py",
   "mimetype": "text/x-python",
   "name": "python",
   "nbconvert_exporter": "python",
   "pygments_lexer": "ipython3",
   "version": "3.8.8"
  }
 },
 "nbformat": 4,
 "nbformat_minor": 5
}
